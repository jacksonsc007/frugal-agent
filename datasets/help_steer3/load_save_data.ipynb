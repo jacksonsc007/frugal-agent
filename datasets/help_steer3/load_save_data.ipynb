{
 "cells": [
  {
   "cell_type": "code",
   "execution_count": 1,
   "metadata": {},
   "outputs": [],
   "source": [
    "import os\n",
    "os.environ[\"https_proxy\"] = \"http://192.168.1.12:7891\""
   ]
  },
  {
   "cell_type": "code",
   "execution_count": 2,
   "metadata": {},
   "outputs": [
    {
     "name": "stderr",
     "output_type": "stream",
     "text": [
      "/root/workspace/development/frugal-agent/.venv/lib/python3.10/site-packages/tqdm/auto.py:21: TqdmWarning: IProgress not found. Please update jupyter and ipywidgets. See https://ipywidgets.readthedocs.io/en/stable/user_install.html\n",
      "  from .autonotebook import tqdm as notebook_tqdm\n"
     ]
    }
   ],
   "source": [
    "import json\n",
    "import re\n",
    "from datasets import load_dataset\n",
    "import sys\n",
    "sys.path.append(\"../..\")\n",
    "from utils.sys_prompts import SYS_PROMPT_formatter_deepseek_concise_2 as SYSTEM_PROMPT\n",
    "import random\n",
    "\n",
    "INSTRUCTION_RESPONSE_FORMAT = \"\"\"\\\n",
    "<instruction>\n",
    "{instruction}\n",
    "</instruction>\n",
    "<response>\n",
    "{response}\n",
    "</response>\n",
    "\"\"\"\n",
    "\n",
    "def get_natural_thinking_dataset(url, split=\"train\", output_file=\"dataset.json\"):\n",
    "    dataset = load_dataset(url, split=split)\n",
    "    \n",
    "    def check_structure_markdown(text):\n",
    "        structure_markdown_regex = r\"^#{1,6} .*$\"\n",
    "        res = re.findall(structure_markdown_regex, text[\"response1\"], re.MULTILINE)\n",
    "        return len(res) > 0\n",
    "    \n",
    "    def check_length(text):\n",
    "        text_lenth = len(text[\"response1\"])\n",
    "        return (text_lenth > 50) and (text_lenth < 2000)\n",
    "    \n",
    "    dataset = dataset.filter(check_structure_markdown)\n",
    "    dataset = dataset.filter(check_length)\n",
    "    print(\"\\033[92m Number of data after filtering: \\033[0m\", len(dataset))\n",
    "    \n",
    "    def formatting_prompts_func(examples):\n",
    "        instruction = examples[\"context\"][0]['content'].strip()\n",
    "        output = examples[\"response1\"].strip()\n",
    "        \n",
    "        return {\n",
    "            'prompt': [\n",
    "                {'role': 'system', 'content': SYSTEM_PROMPT},\n",
    "                {'role': 'user', 'content': INSTRUCTION_RESPONSE_FORMAT.format(instruction=instruction, response=output)}\n",
    "            ]\n",
    "        }\n",
    "    \n",
    "    dataset = dataset.map(formatting_prompts_func, batched=False)\n",
    "    dataset = dataset.remove_columns([col for col in dataset.column_names if col != \"prompt\"])\n",
    "    # dataset = dataset.shuffle(seed=42).select(range(min(1000, len(dataset))))  # Ensure we get up to 1000 samples\n",
    "    \n",
    "    with open(output_file, \"w\", encoding=\"utf-8\") as f:\n",
    "        json.dump(dataset.to_list(), f, indent=4, ensure_ascii=False)\n",
    "    \n",
    "    return dataset\n"
   ]
  },
  {
   "cell_type": "code",
   "execution_count": 3,
   "metadata": {},
   "outputs": [
    {
     "name": "stderr",
     "output_type": "stream",
     "text": [
      "Generating train split: 100%|██████████| 38459/38459 [00:02<00:00, 14378.88 examples/s]\n",
      "Generating validation split: 100%|██████████| 2017/2017 [00:00<00:00, 14243.16 examples/s]\n",
      "Filter: 100%|██████████| 38459/38459 [00:01<00:00, 24549.33 examples/s]\n",
      "Filter: 100%|██████████| 2808/2808 [00:00<00:00, 23688.63 examples/s]\n"
     ]
    },
    {
     "name": "stdout",
     "output_type": "stream",
     "text": [
      "\u001b[92m Number of data after filtering: \u001b[0m 1077\n"
     ]
    },
    {
     "name": "stderr",
     "output_type": "stream",
     "text": [
      "Map: 100%|██████████| 1077/1077 [00:00<00:00, 11246.49 examples/s]\n"
     ]
    }
   ],
   "source": [
    "\n",
    "dataset = get_natural_thinking_dataset(\"nvidia/HelpSteer3\", \"train\", \"HelpSteer3-markdown.json\")"
   ]
  },
  {
   "cell_type": "code",
   "execution_count": 4,
   "metadata": {},
   "outputs": [
    {
     "data": {
      "text/plain": [
       "{'prompt': [{'content': 'You are a meticulous organizational assistant specialized in structuring instruction-response pairs into a standardized markdown format. Please carefully process the input according to the following specifications:\\n\\n---\\ntags:\\n  - {general_tag} {general_tag}/{sub_tag}\\n---\\n# Instruction\\n[The original instruction text]\\n\\n# Summary\\n[A brief yet comprehensive summary of the response]\\n\\n## Details\\n[The original response content]\\n\\nHere are Processing Guidelines:\\n- The `tags` section consists of pairs of general tags and sub tags in the following format:  `{general_tag} {general_tag}/{sub_tag}`. For example: `environment environment/renewable_energy`.\\n- Keep the heaidng levels in the original response and adjust heading levels as needed to maintain proper hierarchy and avoid jumping heading levels.\\n\\nThe instructions and responses are enclosed within `<instruction>` and `<response>` XML tags, respectively. Please process the following instruction-response pairs with precision and attention to structural integrity.\\n',\n",
       "   'role': 'system'},\n",
       "  {'content': '<instruction>\\n\"조나단의 기묘한 컬러링북\"을 추천하는 블로그를 써줘.\\n</instruction>\\n<response>\\n물론입니다! \"조나단의 기묘한 컬러링북\"을 추천하는 블로그 포스트를 작성해드리겠습니다.\\n\\n---\\n\\n### 조나단의 기묘한 컬러링북: 마음의 평화를 찾는 여정\\n\\n안녕하세요, 여러분! 오늘은 정말 특별한 컬러링북을 소개해드리려고 합니다. 바로 \"조나단의 기묘한 컬러링북\"입니다. 이 컬러링북은 단순한 색칠 도구가 아니라, 마음의 평화를 찾고 창의력을 자극하는 완벽한 도구입니다.\\n\\n#### 1. 컬러링북의 특징\\n\\n\"조나단의 기묘한 컬러링북\"은 다양한 주제와 복잡한 패턴으로 구성되어 있습니다. 각 페이지는 독특한 이야기와 상상력을 자극하는 그림들로 가득 차 있어, 색칠하는 동안 마음이 평온해지는 느낌을 받을 수 있습니다. 특히, 세밀한 디테일과 다양한 색상을 사용할 수 있는 점이 이 컬러링북의 큰 매력입니다.\\n\\n#### 2. 스트레스 해소와 명상의 도구\\n\\n현대인들은 바쁜 일상 속에서 스트레스를 많이 받습니다. \"조나단의 기묘한 컬러링북\"은 이러한 스트레스를 해소하는 데 큰 도움이 됩니다. 색칠을 하면서 집중력을 높이고, 마음을 안정시키는 효과가 있습니다. 또한, 명상과 같은 효과를 볼 수 있어, 일상 속에서 잠시 휴식을 취할 수 있는 좋은 방법입니다.\\n\\n#### 3. 창의력 자극\\n\\n이 컬러링북은 단순히 색칠만 하는 것이 아니라, 자신만의 색상과 패턴을 선택하여 창의력을 발휘할 수 있는 기회를 제공합니다. 각 페이지는 다양한 주제와 이야기를 담고 있어, 색칠하는 동안 자신만의 이야기를 만들어 나갈 수 있습니다. 이는 창의력을 자극하고, 새로운 아이디어를 얻는 데 큰 도움이 됩니다.\\n\\n#### 4. 사용 방법\\n\\n\"조나단의 기묘한 컬러링북\"을 사용하는 방법은 매우 간단합니다. 먼저, 자신이 좋아하는 페이지를 선택하고, 색연필이나 마커를 사용하여 색칠을 시작하면 됩니다. 각 페이지는 세밀한 디테일이 많기 때문에, 천천히 색칠하면서 마음을 안정시키는 것이 좋습니다. 또한, 자신만의 색상과 패턴을 선택하여 창의력을 발휘해보세요.\\n\\n#### 5. 추천 이유\\n\\n\"조나단의 기묘한 컬러링북\"은 다음과 같은 이유로 추천드립니다:\\n\\n- **스트레스 해소**: 색칠을 하면서 마음을 안정시키고, 스트레스를 해소할 수 있습니다.\\n- **창의력 자극**: 다양한 주제와 패턴으로 구성되어 있어, 창의력을 발휘할 수 있는 기회를 제공합니다.\\n- **명상의 도구**: 색칠을 하면서 집중력을 높이고, 명상과 같은 효과를 볼 수 있습니다.\\n- **다양한 주제**: 각 페이지는 독특한 이야기와 상상력을 자극하는 그림들로 가득 차 있어, 색칠하는 동안 즐거움을 느낄 수 있습니다.\\n\\n#### 6. 결론\\n\\n\"조나단의 기묘한 컬러링북\"은 단순한 색칠 도구가 아니라, 마음의 평화를 찾고 창의력을 자극하는 완벽한 도구입니다. 바쁜 일상 속에서 잠시 휴식을 취하고, 자신만의 이야기를 만들어 나가는 즐거움을 느껴보세요. 이 컬러링북을 통해 새로운 경험과 즐거움을 찾아보시길 바랍니다.\\n\\n감사합니다!\\n\\n---\\n\\n이렇게 작성된 블로그 포스트가 \"조나단의 기묘한 컬러링북\"을 효과적으로 추천하는 데 도움이 될 것입니다. 추가로 궁금한 사항이 있으면 언제든지 말씀해 주세요!\\n</response>\\n',\n",
       "   'role': 'user'}]}"
      ]
     },
     "execution_count": 4,
     "metadata": {},
     "output_type": "execute_result"
    }
   ],
   "source": [
    "dataset.to_list()[-1]"
   ]
  },
  {
   "cell_type": "code",
   "execution_count": 8,
   "metadata": {},
   "outputs": [],
   "source": [
    "for i in range(0):\n",
    "    print('-'*100)\n",
    "    print(dataset[i]['prompt'][1]['content'])"
   ]
  },
  {
   "cell_type": "code",
   "execution_count": 14,
   "metadata": {},
   "outputs": [
    {
     "name": "stdout",
     "output_type": "stream",
     "text": [
      "Number of entries: 2808\n"
     ]
    }
   ],
   "source": [
    "import json\n",
    "\n",
    "file = \"HelpSteer3.json\"\n",
    "\n",
    "with open(file, \"r\", encoding=\"utf-8\") as f:\n",
    "    data = json.load(f)\n",
    "\n",
    "print(f\"Number of entries: {len(data)}\")\n",
    "\n"
   ]
  },
  {
   "cell_type": "code",
   "execution_count": null,
   "metadata": {},
   "outputs": [],
   "source": []
  }
 ],
 "metadata": {
  "kernelspec": {
   "display_name": "frugal-agent",
   "language": "python",
   "name": "python3"
  },
  "language_info": {
   "codemirror_mode": {
    "name": "ipython",
    "version": 3
   },
   "file_extension": ".py",
   "mimetype": "text/x-python",
   "name": "python",
   "nbconvert_exporter": "python",
   "pygments_lexer": "ipython3",
   "version": "3.10.15"
  }
 },
 "nbformat": 4,
 "nbformat_minor": 2
}
