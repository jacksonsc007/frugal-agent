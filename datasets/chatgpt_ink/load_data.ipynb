{
 "cells": [
  {
   "cell_type": "code",
   "execution_count": 1,
   "metadata": {},
   "outputs": [],
   "source": [
    "import json\n",
    "import re\n",
    "\n",
    "dataset = \"conversations.json\""
   ]
  },
  {
   "cell_type": "code",
   "execution_count": 2,
   "metadata": {},
   "outputs": [],
   "source": [
    "# load all conversations\n",
    "\n",
    "dataset = json.load(open(dataset, \"r\"))"
   ]
  },
  {
   "cell_type": "code",
   "execution_count": 4,
   "metadata": {},
   "outputs": [
    {
     "data": {
      "text/plain": [
       "255"
      ]
     },
     "execution_count": 4,
     "metadata": {},
     "output_type": "execute_result"
    }
   ],
   "source": [
    "len(dataset)"
   ]
  },
  {
   "cell_type": "code",
   "execution_count": 6,
   "metadata": {},
   "outputs": [
    {
     "data": {
      "text/plain": [
       "dict_keys(['title', 'create_time', 'update_time', 'mapping', 'moderation_results', 'current_node', 'plugin_ids', 'conversation_id', 'conversation_template_id', 'gizmo_id', 'gizmo_type', 'is_archived', 'is_starred', 'safe_urls', 'blocked_urls', 'default_model_slug', 'conversation_origin', 'voice', 'async_status', 'disabled_tool_ids', 'id'])"
      ]
     },
     "execution_count": 6,
     "metadata": {},
     "output_type": "execute_result"
    }
   ],
   "source": [
    "dataset[0].keys()"
   ]
  },
  {
   "cell_type": "code",
   "execution_count": 7,
   "metadata": {},
   "outputs": [
    {
     "data": {
      "text/plain": [
       "{'title': 'Bitwise OR vs Logical OR',\n",
       " 'create_time': 1742617970.226459,\n",
       " 'update_time': 1742617982.557425,\n",
       " 'mapping': {'client-created-root': {'id': 'client-created-root',\n",
       "   'message': None,\n",
       "   'parent': None,\n",
       "   'children': ['c74609cd-d172-44a1-96e3-f8f532218b5a']},\n",
       "  'c74609cd-d172-44a1-96e3-f8f532218b5a': {'id': 'c74609cd-d172-44a1-96e3-f8f532218b5a',\n",
       "   'message': {'id': 'c74609cd-d172-44a1-96e3-f8f532218b5a',\n",
       "    'author': {'role': 'system', 'name': None, 'metadata': {}},\n",
       "    'create_time': None,\n",
       "    'update_time': None,\n",
       "    'content': {'content_type': 'text', 'parts': ['']},\n",
       "    'status': 'finished_successfully',\n",
       "    'end_turn': True,\n",
       "    'weight': 0.0,\n",
       "    'metadata': {'is_visually_hidden_from_conversation': True},\n",
       "    'recipient': 'all',\n",
       "    'channel': None},\n",
       "   'parent': 'client-created-root',\n",
       "   'children': ['038b2863-2b32-43ee-b02d-919a7c9e8a38']},\n",
       "  '038b2863-2b32-43ee-b02d-919a7c9e8a38': {'id': '038b2863-2b32-43ee-b02d-919a7c9e8a38',\n",
       "   'message': {'id': '038b2863-2b32-43ee-b02d-919a7c9e8a38',\n",
       "    'author': {'role': 'user', 'name': None, 'metadata': {}},\n",
       "    'create_time': 1742617969.88,\n",
       "    'update_time': None,\n",
       "    'content': {'content_type': 'text', 'parts': ['|= or ||=? in cpp?']},\n",
       "    'status': 'finished_successfully',\n",
       "    'end_turn': None,\n",
       "    'weight': 1.0,\n",
       "    'metadata': {'serialization_metadata': {'custom_symbol_offsets': []},\n",
       "     'request_id': '9242f7a79c09fcc1-NRT',\n",
       "     'message_source': None,\n",
       "     'timestamp_': 'absolute',\n",
       "     'message_type': None},\n",
       "    'recipient': 'all',\n",
       "    'channel': None},\n",
       "   'parent': 'c74609cd-d172-44a1-96e3-f8f532218b5a',\n",
       "   'children': ['773e34e1-6570-4699-b691-e2e6f78ebd7d']},\n",
       "  '773e34e1-6570-4699-b691-e2e6f78ebd7d': {'id': '773e34e1-6570-4699-b691-e2e6f78ebd7d',\n",
       "   'message': {'id': '773e34e1-6570-4699-b691-e2e6f78ebd7d',\n",
       "    'author': {'role': 'assistant', 'name': None, 'metadata': {}},\n",
       "    'create_time': 1742617981.182593,\n",
       "    'update_time': None,\n",
       "    'content': {'content_type': 'text', 'parts': ['']},\n",
       "    'status': 'finished_successfully',\n",
       "    'end_turn': None,\n",
       "    'weight': 1.0,\n",
       "    'metadata': {'message_type': None,\n",
       "     'model_slug': 'gpt-4o',\n",
       "     'default_model_slug': 'auto',\n",
       "     'parent_id': '038b2863-2b32-43ee-b02d-919a7c9e8a38',\n",
       "     'request_id': '9242f7a79c09fcc1-NRT',\n",
       "     'timestamp_': 'absolute'},\n",
       "    'recipient': 'all',\n",
       "    'channel': None},\n",
       "   'parent': '038b2863-2b32-43ee-b02d-919a7c9e8a38',\n",
       "   'children': ['c5d72508-e3d3-4fc5-8dd7-892e770e43ab']},\n",
       "  'c5d72508-e3d3-4fc5-8dd7-892e770e43ab': {'id': 'c5d72508-e3d3-4fc5-8dd7-892e770e43ab',\n",
       "   'message': {'id': 'c5d72508-e3d3-4fc5-8dd7-892e770e43ab',\n",
       "    'author': {'role': 'assistant', 'name': None, 'metadata': {}},\n",
       "    'create_time': 1742617970.321366,\n",
       "    'update_time': None,\n",
       "    'content': {'content_type': 'text',\n",
       "     'parts': ['In C++, `|=` and `||=` are different operations:\\n\\n1. **`|=` (bitwise OR assignment)**  \\n   - Performs a **bitwise OR** between two values and assigns the result to the left operand.\\n   - Used for bit manipulation.\\n   - Example:\\n     ```cpp\\n     int a = 5;  // 0b0101\\n     a |= 3;     // 0b0011\\n     // a = 0b0111 (7 in decimal)\\n     ```\\n   \\n2. **`||=` (invalid operator)**  \\n   - There is **no `||=` operator** in C++.\\n   - If you meant logical OR (`||`), it does not have an assignment version like `|=`.\\n\\nIf you need to set a boolean to `true` when either condition is `true`, you can write:\\n```cpp\\nbool flag = false;\\nflag = flag || some_condition;  // Equivalent to: flag |= some_condition;\\n```\\n\\nBut `|=` works for both integers and booleans:\\n```cpp\\nbool flag = false;\\nflag |= some_condition;  // Works the same way as flag = flag || some_condition;\\n```\\n\\n### TL;DR:\\n- Use `|=` for **bitwise OR assignment**.\\n- `||=` is **not valid** in C++.']},\n",
       "    'status': 'finished_successfully',\n",
       "    'end_turn': True,\n",
       "    'weight': 1.0,\n",
       "    'metadata': {'finish_details': {'type': 'stop', 'stop_tokens': [200002]},\n",
       "     'is_complete': True,\n",
       "     'citations': [],\n",
       "     'content_references': [],\n",
       "     'message_type': None,\n",
       "     'model_slug': 'gpt-4o',\n",
       "     'default_model_slug': 'auto',\n",
       "     'parent_id': '773e34e1-6570-4699-b691-e2e6f78ebd7d',\n",
       "     'request_id': '9242f7a79c09fcc1-NRT',\n",
       "     'timestamp_': 'absolute'},\n",
       "    'recipient': 'all',\n",
       "    'channel': None},\n",
       "   'parent': '773e34e1-6570-4699-b691-e2e6f78ebd7d',\n",
       "   'children': []}},\n",
       " 'moderation_results': [],\n",
       " 'current_node': 'c5d72508-e3d3-4fc5-8dd7-892e770e43ab',\n",
       " 'plugin_ids': None,\n",
       " 'conversation_id': '67de3d71-ff50-8004-9772-4e1edf788fe1',\n",
       " 'conversation_template_id': None,\n",
       " 'gizmo_id': None,\n",
       " 'gizmo_type': None,\n",
       " 'is_archived': False,\n",
       " 'is_starred': None,\n",
       " 'safe_urls': [],\n",
       " 'blocked_urls': [],\n",
       " 'default_model_slug': 'auto',\n",
       " 'conversation_origin': None,\n",
       " 'voice': None,\n",
       " 'async_status': None,\n",
       " 'disabled_tool_ids': [],\n",
       " 'id': '67de3d71-ff50-8004-9772-4e1edf788fe1'}"
      ]
     },
     "execution_count": 7,
     "metadata": {},
     "output_type": "execute_result"
    }
   ],
   "source": [
    "dataset[0]"
   ]
  },
  {
   "cell_type": "code",
   "execution_count": null,
   "metadata": {},
   "outputs": [],
   "source": []
  }
 ],
 "metadata": {
  "kernelspec": {
   "display_name": "trl",
   "language": "python",
   "name": "python3"
  },
  "language_info": {
   "codemirror_mode": {
    "name": "ipython",
    "version": 3
   },
   "file_extension": ".py",
   "mimetype": "text/x-python",
   "name": "python",
   "nbconvert_exporter": "python",
   "pygments_lexer": "ipython3",
   "version": "3.10.0"
  }
 },
 "nbformat": 4,
 "nbformat_minor": 2
}
